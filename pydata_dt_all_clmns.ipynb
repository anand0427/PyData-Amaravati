{
 "cells": [
  {
   "cell_type": "code",
   "execution_count": 2,
   "metadata": {},
   "outputs": [],
   "source": [
    "from sklearn.model_selection import train_test_split\n",
    "import pandas as pd\n",
    "from sklearn.tree import DecisionTreeRegressor\n",
    "from sklearn.preprocessing import Imputer\n",
    "import math\n",
    "from sklearn.metrics import mean_squared_error"
   ]
  },
  {
   "cell_type": "code",
   "execution_count": 4,
   "metadata": {},
   "outputs": [],
   "source": [
    "test = pd.read_csv(\"./input/test.csv\")\n",
    "train = pd.read_csv(\"./input/train.csv\")"
   ]
  },
  {
   "cell_type": "code",
   "execution_count": 5,
   "metadata": {},
   "outputs": [],
   "source": [
    "X = train.drop(['SalePrice'],axis=1)\n",
    "y = train.SalePrice\n",
    "#print (X.SalePrice)\n",
    "val_X = test.copy()\n",
    "#print(val_X.describe())"
   ]
  },
  {
   "cell_type": "code",
   "execution_count": 6,
   "metadata": {},
   "outputs": [],
   "source": [
    "\n",
    "one_hot_pred = pd.get_dummies(X)\n",
    "one_hot_encoded_test_predictors = pd.get_dummies(val_X)\n",
    "final_train, final_test = one_hot_pred.align(one_hot_encoded_test_predictors,\n",
    "                                                                    join='left', \n",
    "                                                                     axis=1)"
   ]
  },
  {
   "cell_type": "code",
   "execution_count": 7,
   "metadata": {
    "scrolled": true
   },
   "outputs": [],
   "source": [
    "my_imputer = Imputer()\n",
    "imputed_X_train = my_imputer.fit_transform(final_train)\n",
    "imputed_X_test = my_imputer.transform(final_test)\n"
   ]
  },
  {
   "cell_type": "code",
   "execution_count": 8,
   "metadata": {},
   "outputs": [],
   "source": [
    "new_dt_model=DecisionTreeRegressor()\n",
    "\n",
    "new_dt_model.fit(imputed_X_train,y)\n",
    "\n",
    "dt_predictions=new_dt_model.predict(imputed_X_test)"
   ]
  },
  {
   "cell_type": "markdown",
   "metadata": {},
   "source": [
    "***Testing model with root mean squared error***"
   ]
  },
  {
   "cell_type": "code",
   "execution_count": 16,
   "metadata": {},
   "outputs": [
    {
     "name": "stdout",
     "output_type": "stream",
     "text": [
      "43407.81005438777\n"
     ]
    }
   ],
   "source": [
    "train_X,val_X,train_y,val_y=train_test_split(imputed_X_train,y,random_state=0)\n",
    "\n",
    "new_dt_model.fit(train_X,train_y)\n",
    "#print(val_y.shape)\n",
    "val_predictions=new_dt_model.predict(val_X)\n",
    "#print(val_predictions.shape)\n",
    "print(math.sqrt(mean_squared_error(val_y,val_predictions)))"
   ]
  }
 ],
 "metadata": {
  "kernelspec": {
   "display_name": "Python 3",
   "language": "python",
   "name": "python3"
  },
  "language_info": {
   "codemirror_mode": {
    "name": "ipython",
    "version": 3
   },
   "file_extension": ".py",
   "mimetype": "text/x-python",
   "name": "python",
   "nbconvert_exporter": "python",
   "pygments_lexer": "ipython3",
   "version": "3.6.4rc1"
  }
 },
 "nbformat": 4,
 "nbformat_minor": 2
}
